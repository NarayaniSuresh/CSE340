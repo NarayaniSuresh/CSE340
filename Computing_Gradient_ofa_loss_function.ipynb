{
  "nbformat": 4,
  "nbformat_minor": 0,
  "metadata": {
    "colab": {
      "provenance": []
    },
    "kernelspec": {
      "name": "python3",
      "display_name": "Python 3"
    },
    "language_info": {
      "name": "python"
    }
  },
  "cells": [
    {
      "cell_type": "code",
      "source": [
        "def gradient_descent1(x1, x2, y, w1, w2):\n",
        "    gdw1 = -2 * (y - (w1 * x1 + w2 * x2)) * x1\n",
        "    return gdw1\n",
        "def gradient_descent2(x1,x2,y,w1,w2):\n",
        "    gdw2 = -2 * (y - (w1 * x1 + w2 * x2)) * x2\n",
        "    return gdw2\n",
        "\n",
        "def main():\n",
        "    x1= [1, 2, 0, -2]\n",
        "    x2= [0, 1, 1, 1]\n",
        "    y=  [1, 9, 1, 7]\n",
        "    w1 = 1\n",
        "    w2 = 3\n",
        "    gradients = []\n",
        "    for x1, x2, y in zip(x1, x2, y):\n",
        "        gdw1= gradient_descent1(x1, x2, y, w1, w2)\n",
        "        gdw2= gradient_descent2(x1,x2,y,w1,w2)\n",
        "        gradients.append((gdw1, gdw2))\n",
        "        print(f\"Gradient for w1:{gdw1}\",f\"Gradient for w2:{gdw2}\")\n",
        "\n",
        "\n",
        "    print(\"List of gradients:\", gradients)\n",
        "if __name__ == \"__main__\":\n",
        "    main()\n"
      ],
      "metadata": {
        "colab": {
          "base_uri": "https://localhost:8080/"
        },
        "id": "XFhguYkPPmaF",
        "outputId": "554a61e8-6dd8-40cb-fe03-c51c308d693b"
      },
      "execution_count": 1,
      "outputs": [
        {
          "output_type": "stream",
          "name": "stdout",
          "text": [
            "Gradient for w1:0 Gradient for w2:0\n",
            "Gradient for w1:-16 Gradient for w2:-8\n",
            "Gradient for w1:0 Gradient for w2:4\n",
            "Gradient for w1:24 Gradient for w2:-12\n",
            "List of gradients: [(0, 0), (-16, -8), (0, 4), (24, -12)]\n"
          ]
        }
      ]
    },
    {
      "cell_type": "code",
      "source": [
        "# Consider a simple neural network with 2 input nodes - x1 and x2 connected to an output node via weights w1 and w2. Thus,\n",
        "#y = w1*x1 + w2*x2\n",
        "#compute the loss function, and the gradient of the loss function with respect to each of the weights w1 and w2.\n",
        "#Use the table below to test your result\n",
        "x1 = [1, 2, 0, -2]\n",
        "x2 = [0, 1, 1, 1]\n",
        "y = [1, 9, 1, 7]\n",
        "w1 = 1\n",
        "w2 = 2\n",
        "\n",
        "N = len(x1)\n",
        "loss = 0\n",
        "gdw1 = 0\n",
        "gdw2 = 0\n",
        "\n",
        "for i in range(N):\n",
        "\n",
        "    y_pred = w1 * x1[i] + w2 * x2[i]\n",
        "\n",
        "\n",
        "    loss += (y[i] - y_pred) ** 2\n",
        "\n",
        "\n",
        "    gdw1 += -2 * x1[i] * (y[i] - y_pred)\n",
        "    gdw2 += -2 * x2[i] * (y[i] - y_pred)\n",
        "loss /= N\n",
        "\n",
        "\n",
        "gdw1 /= N\n",
        "gdw2 /= N\n",
        "\n",
        "print(\"Loss:\", loss)\n",
        "print(\"Gradient w.r.t w1:\", gdw1)\n",
        "print(\"Gradient w.r.t w2:\", gdw2)\n"
      ],
      "metadata": {
        "colab": {
          "base_uri": "https://localhost:8080/"
        },
        "id": "CCX1FrNpuz4w",
        "outputId": "6f01fecf-4dc3-4e61-fbbc-cb8491ce3d94"
      },
      "execution_count": 16,
      "outputs": [
        {
          "output_type": "stream",
          "name": "stdout",
          "text": [
            "Loss: 18.75\n",
            "Gradient w.r.t w1: 2.0\n",
            "Gradient w.r.t w2: -5.5\n"
          ]
        }
      ]
    },
    {
      "cell_type": "code",
      "source": [],
      "metadata": {
        "id": "I5qaprNnK7yI"
      },
      "execution_count": null,
      "outputs": []
    }
  ]
}