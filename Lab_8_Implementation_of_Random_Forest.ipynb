{
  "nbformat": 4,
  "nbformat_minor": 0,
  "metadata": {
    "colab": {
      "provenance": [],
      "authorship_tag": "ABX9TyP54ESDXU2egMjZFUOKu062",
      "include_colab_link": true
    },
    "kernelspec": {
      "name": "python3",
      "display_name": "Python 3"
    },
    "language_info": {
      "name": "python"
    }
  },
  "cells": [
    {
      "cell_type": "markdown",
      "metadata": {
        "id": "view-in-github",
        "colab_type": "text"
      },
      "source": [
        "<a href=\"https://colab.research.google.com/github/NarayaniSuresh/CSE340/blob/main/Lab_8_Implementation_of_Random_Forest.ipynb\" target=\"_parent\"><img src=\"https://colab.research.google.com/assets/colab-badge.svg\" alt=\"Open In Colab\"/></a>"
      ]
    },
    {
      "cell_type": "code",
      "execution_count": 1,
      "metadata": {
        "id": "0LcCvYvYNkLr"
      },
      "outputs": [],
      "source": [
        "# Step 1: Import Libraries and Load the Dataset\n",
        "import pandas as pd\n",
        "from sklearn.model_selection import train_test_split\n",
        "from sklearn.ensemble import RandomForestClassifier\n",
        "from sklearn.metrics import classification_report, confusion_matrix\n",
        "import seaborn as sns\n",
        "import matplotlib.pyplot as plt\n",
        "\n"
      ]
    },
    {
      "cell_type": "code",
      "source": [
        "# Step 2: Exploratory Data Analysis and Rename Column Names\n",
        "column_names = ['buying', 'maint', 'doors', 'persons', 'lug_boot', 'safety', 'class']\n",
        "car_data = pd.read_csv(\"Cars-RF.csv\", names=column_names)\n",
        "\n"
      ],
      "metadata": {
        "id": "0scIxTGV-2OM"
      },
      "execution_count": 2,
      "outputs": []
    },
    {
      "cell_type": "code",
      "source": [
        "# Step 3: View Summary of Dataset\n",
        "print(\"Summary of Dataset:\")\n",
        "print(car_data.info())\n",
        "\n"
      ],
      "metadata": {
        "colab": {
          "base_uri": "https://localhost:8080/"
        },
        "id": "0qnZQWZC-5Dt",
        "outputId": "36b6f182-a141-45d8-8fe3-6b0f1d3f5244"
      },
      "execution_count": 3,
      "outputs": [
        {
          "output_type": "stream",
          "name": "stdout",
          "text": [
            "Summary of Dataset:\n",
            "<class 'pandas.core.frame.DataFrame'>\n",
            "RangeIndex: 1728 entries, 0 to 1727\n",
            "Data columns (total 7 columns):\n",
            " #   Column    Non-Null Count  Dtype \n",
            "---  ------    --------------  ----- \n",
            " 0   buying    1728 non-null   object\n",
            " 1   maint     1728 non-null   object\n",
            " 2   doors     1728 non-null   object\n",
            " 3   persons   1728 non-null   object\n",
            " 4   lug_boot  1728 non-null   object\n",
            " 5   safety    1728 non-null   object\n",
            " 6   class     1728 non-null   object\n",
            "dtypes: object(7)\n",
            "memory usage: 94.6+ KB\n",
            "None\n"
          ]
        }
      ]
    },
    {
      "cell_type": "code",
      "source": [
        "# Step 4: Check Frequency Counts of Categorical Variables and 'Class' Variable\n",
        "print(\"\\nFrequency Counts of Categorical Variables:\")\n",
        "for column in car_data.columns:\n",
        "    if car_data[column].dtype == 'object':\n",
        "        print(car_data[column].value_counts())\n",
        "\n"
      ],
      "metadata": {
        "colab": {
          "base_uri": "https://localhost:8080/"
        },
        "id": "YlFjWYzQ-70c",
        "outputId": "153f9a58-cf51-4da3-e00d-1101fc9ca643"
      },
      "execution_count": 4,
      "outputs": [
        {
          "output_type": "stream",
          "name": "stdout",
          "text": [
            "\n",
            "Frequency Counts of Categorical Variables:\n",
            "vhigh    432\n",
            "high     432\n",
            "med      432\n",
            "low      432\n",
            "Name: buying, dtype: int64\n",
            "vhigh    432\n",
            "high     432\n",
            "med      432\n",
            "low      432\n",
            "Name: maint, dtype: int64\n",
            "2        432\n",
            "3        432\n",
            "4        432\n",
            "5more    432\n",
            "Name: doors, dtype: int64\n",
            "2       576\n",
            "4       576\n",
            "more    576\n",
            "Name: persons, dtype: int64\n",
            "small    576\n",
            "med      576\n",
            "big      576\n",
            "Name: lug_boot, dtype: int64\n",
            "low     576\n",
            "med     576\n",
            "high    576\n",
            "Name: safety, dtype: int64\n",
            "unacc    1210\n",
            "acc       384\n",
            "good       69\n",
            "vgood      65\n",
            "Name: class, dtype: int64\n"
          ]
        }
      ]
    },
    {
      "cell_type": "code",
      "source": [
        "# Step 5: Check for Null Values\n",
        "print(\"\\nMissing Values:\")\n",
        "print(car_data.isnull().sum())\n",
        "\n"
      ],
      "metadata": {
        "colab": {
          "base_uri": "https://localhost:8080/"
        },
        "id": "voULvCe_--T4",
        "outputId": "0c5689f8-aa4a-4d08-f0c4-d2c368e69682"
      },
      "execution_count": 5,
      "outputs": [
        {
          "output_type": "stream",
          "name": "stdout",
          "text": [
            "\n",
            "Missing Values:\n",
            "buying      0\n",
            "maint       0\n",
            "doors       0\n",
            "persons     0\n",
            "lug_boot    0\n",
            "safety      0\n",
            "class       0\n",
            "dtype: int64\n"
          ]
        }
      ]
    },
    {
      "cell_type": "code",
      "source": [
        "# Step 6: Split Data into Training and Test Sets\n",
        "X = car_data.drop('class', axis=1)\n",
        "y = car_data['class']\n",
        "X_train, X_test, y_train, y_test = train_test_split(X, y, test_size=0.2, random_state=42)\n",
        "\n"
      ],
      "metadata": {
        "id": "38Sqy2g3_Au2"
      },
      "execution_count": 6,
      "outputs": []
    },
    {
      "cell_type": "code",
      "source": [
        "# Step 7: Check Shape and Data Types of Training and Test Sets\n",
        "print(\"\\nShape of X_train:\", X_train.shape)\n",
        "print(\"Shape of X_test:\", X_test.shape)\n",
        "print(\"Data Types of Variables:\")\n",
        "print(X_train.dtypes)\n",
        "\n"
      ],
      "metadata": {
        "colab": {
          "base_uri": "https://localhost:8080/"
        },
        "id": "Ta8ZnL6v_C5y",
        "outputId": "48d1a84e-9f98-4748-b902-8cb9cf71de0f"
      },
      "execution_count": 7,
      "outputs": [
        {
          "output_type": "stream",
          "name": "stdout",
          "text": [
            "\n",
            "Shape of X_train: (1382, 6)\n",
            "Shape of X_test: (346, 6)\n",
            "Data Types of Variables:\n",
            "buying      object\n",
            "maint       object\n",
            "doors       object\n",
            "persons     object\n",
            "lug_boot    object\n",
            "safety      object\n",
            "dtype: object\n"
          ]
        }
      ]
    },
    {
      "cell_type": "code",
      "source": [
        "# Step 8: Encode Categorical Variables using Ordinal Encoding\n",
        "ordinal_mapping = {'low': 0, 'med': 1, 'high': 2, 'vhigh': 3,\n",
        "                   'small': 0, 'med': 1, 'big': 2,\n",
        "                   '2': 2, '3': 3, '4': 4, '5more': 5,\n",
        "                   '2': 2, '4': 4, 'more': 5}\n",
        "\n",
        "X_train_encoded = X_train.applymap(lambda x: ordinal_mapping.get(x, x))\n",
        "X_test_encoded = X_test.applymap(lambda x: ordinal_mapping.get(x, x))\n"
      ],
      "metadata": {
        "id": "t47QDsKo_Enr"
      },
      "execution_count": 8,
      "outputs": []
    },
    {
      "cell_type": "code",
      "source": [
        "\n",
        "# Step 9: Check Random Forest Classifier Model with Default Parameters\n",
        "rf_default = RandomForestClassifier(random_state=42)\n",
        "rf_default.fit(X_train_encoded, y_train)\n",
        "print(\"\\nRandom Forest Classifier Model with Default Parameters:\")\n",
        "print(\"Training Accuracy:\", rf_default.score(X_train_encoded, y_train))\n",
        "print(\"Testing Accuracy:\", rf_default.score(X_test_encoded, y_test))\n"
      ],
      "metadata": {
        "colab": {
          "base_uri": "https://localhost:8080/"
        },
        "id": "ithnIUmp_GSW",
        "outputId": "2ef432e3-6fcc-49b0-864d-1c5f8583d2dc"
      },
      "execution_count": 9,
      "outputs": [
        {
          "output_type": "stream",
          "name": "stdout",
          "text": [
            "\n",
            "Random Forest Classifier Model with Default Parameters:\n",
            "Training Accuracy: 1.0\n",
            "Testing Accuracy: 0.9624277456647399\n"
          ]
        }
      ]
    },
    {
      "cell_type": "code",
      "source": [
        "\n",
        "# Step 10: Check Random Forest Classifier Model with Different Number of Trees\n",
        "rf_100_trees = RandomForestClassifier(n_estimators=100, random_state=42)\n",
        "rf_100_trees.fit(X_train_encoded, y_train)\n",
        "print(\"\\nRandom Forest Classifier Model with 100 Trees:\")\n",
        "print(\"Training Accuracy:\", rf_100_trees.score(X_train_encoded, y_train))\n",
        "print(\"Testing Accuracy:\", rf_100_trees.score(X_test_encoded, y_test))\n",
        "\n"
      ],
      "metadata": {
        "colab": {
          "base_uri": "https://localhost:8080/"
        },
        "id": "5EbUcPXX_H_b",
        "outputId": "13b4103c-2e2c-472a-956a-ca5fbd242602"
      },
      "execution_count": 10,
      "outputs": [
        {
          "output_type": "stream",
          "name": "stdout",
          "text": [
            "\n",
            "Random Forest Classifier Model with 100 Trees:\n",
            "Training Accuracy: 1.0\n",
            "Testing Accuracy: 0.9624277456647399\n"
          ]
        }
      ]
    },
    {
      "cell_type": "code",
      "source": [
        "# Step 11: Find Important Features with the Random Forest Model\n",
        "feature_importances = pd.DataFrame(rf_default.feature_importances_,\n",
        "                                   index=X_train_encoded.columns,\n",
        "                                   columns=['importance']).sort_values('importance', ascending=False)\n",
        "print(\"\\nFeature Importance Scores:\")\n",
        "print(feature_importances)\n",
        "\n"
      ],
      "metadata": {
        "colab": {
          "base_uri": "https://localhost:8080/"
        },
        "id": "LffBctGG_JmS",
        "outputId": "645fcdde-f929-4371-f8fa-78db734b1075"
      },
      "execution_count": 11,
      "outputs": [
        {
          "output_type": "stream",
          "name": "stdout",
          "text": [
            "\n",
            "Feature Importance Scores:\n",
            "          importance\n",
            "safety      0.306203\n",
            "persons     0.235888\n",
            "maint       0.155236\n",
            "buying      0.151359\n",
            "lug_boot    0.086601\n",
            "doors       0.064714\n"
          ]
        }
      ]
    },
    {
      "cell_type": "code",
      "source": [
        "# Step 12: Visualize Feature Scores\n",
        "plt.figure(figsize=(10, 6))\n",
        "sns.barplot(x=feature_importances.index, y=feature_importances['importance'])\n",
        "plt.title('Feature Importance Scores')\n",
        "plt.xlabel('Features')\n",
        "plt.ylabel('Importance Score')\n",
        "plt.xticks(rotation=45)\n",
        "plt.show()\n"
      ],
      "metadata": {
        "colab": {
          "base_uri": "https://localhost:8080/",
          "height": 602
        },
        "id": "gfPETgTJ_Lo5",
        "outputId": "7c733155-9051-44a8-e8d8-f8f5232e4cf1"
      },
      "execution_count": 12,
      "outputs": [
        {
          "output_type": "display_data",
          "data": {
            "text/plain": [
              "<Figure size 1000x600 with 1 Axes>"
            ],
            "image/png": "[encoded data removed]"
          },
          "metadata": {}
        }
      ]
    },
    {
      "cell_type": "code",
      "source": [
        "\n",
        "# Step 13: Build Random Forest Model on Selected Features\n",
        "selected_features = feature_importances[feature_importances['importance'] > 0.05].index\n",
        "X_train_selected = X_train_encoded[selected_features]\n",
        "X_test_selected = X_test_encoded[selected_features]\n",
        "\n",
        "rf_selected = RandomForestClassifier(random_state=42)\n",
        "rf_selected.fit(X_train_selected, y_train)\n",
        "\n"
      ],
      "metadata": {
        "colab": {
          "base_uri": "https://localhost:8080/",
          "height": 74
        },
        "id": "4jOVku9X_M7m",
        "outputId": "3fbe70d6-0a73-4b8f-d493-53323831f4cb"
      },
      "execution_count": 13,
      "outputs": [
        {
          "output_type": "execute_result",
          "data": {
            "text/plain": [
              "RandomForestClassifier(random_state=42)"
            ],
            "text/html": [
              "<style>#sk-container-id-1 {color: black;background-color: white;}#sk-container-id-1 pre{padding: 0;}#sk-container-id-1 div.sk-toggleable {background-color: white;}#sk-container-id-1 label.sk-toggleable__label {cursor: pointer;display: block;width: 100%;margin-bottom: 0;padding: 0.3em;box-sizing: border-box;text-align: center;}#sk-container-id-1 label.sk-toggleable__label-arrow:before {content: \"▸\";float: left;margin-right: 0.25em;color: #696969;}#sk-container-id-1 label.sk-toggleable__label-arrow:hover:before {color: black;}#sk-container-id-1 div.sk-estimator:hover label.sk-toggleable__label-arrow:before {color: black;}#sk-container-id-1 div.sk-toggleable__content {max-height: 0;max-width: 0;overflow: hidden;text-align: left;background-color: #f0f8ff;}#sk-container-id-1 div.sk-toggleable__content pre {margin: 0.2em;color: black;border-radius: 0.25em;background-color: #f0f8ff;}#sk-container-id-1 input.sk-toggleable__control:checked~div.sk-toggleable__content {max-height: 200px;max-width: 100%;overflow: auto;}#sk-container-id-1 input.sk-toggleable__control:checked~label.sk-toggleable__label-arrow:before {content: \"▾\";}#sk-container-id-1 div.sk-estimator input.sk-toggleable__control:checked~label.sk-toggleable__label {background-color: #d4ebff;}#sk-container-id-1 div.sk-label input.sk-toggleable__control:checked~label.sk-toggleable__label {background-color: #d4ebff;}#sk-container-id-1 input.sk-hidden--visually {border: 0;clip: rect(1px 1px 1px 1px);clip: rect(1px, 1px, 1px, 1px);height: 1px;margin: -1px;overflow: hidden;padding: 0;position: absolute;width: 1px;}#sk-container-id-1 div.sk-estimator {font-family: monospace;background-color: #f0f8ff;border: 1px dotted black;border-radius: 0.25em;box-sizing: border-box;margin-bottom: 0.5em;}#sk-container-id-1 div.sk-estimator:hover {background-color: #d4ebff;}#sk-container-id-1 div.sk-parallel-item::after {content: \"\";width: 100%;border-bottom: 1px solid gray;flex-grow: 1;}#sk-container-id-1 div.sk-label:hover label.sk-toggleable__label {background-color: #d4ebff;}#sk-container-id-1 div.sk-serial::before {content: \"\";position: absolute;border-left: 1px solid gray;box-sizing: border-box;top: 0;bottom: 0;left: 50%;z-index: 0;}#sk-container-id-1 div.sk-serial {display: flex;flex-direction: column;align-items: center;background-color: white;padding-right: 0.2em;padding-left: 0.2em;position: relative;}#sk-container-id-1 div.sk-item {position: relative;z-index: 1;}#sk-container-id-1 div.sk-parallel {display: flex;align-items: stretch;justify-content: center;background-color: white;position: relative;}#sk-container-id-1 div.sk-item::before, #sk-container-id-1 div.sk-parallel-item::before {content: \"\";position: absolute;border-left: 1px solid gray;box-sizing: border-box;top: 0;bottom: 0;left: 50%;z-index: -1;}#sk-container-id-1 div.sk-parallel-item {display: flex;flex-direction: column;z-index: 1;position: relative;background-color: white;}#sk-container-id-1 div.sk-parallel-item:first-child::after {align-self: flex-end;width: 50%;}#sk-container-id-1 div.sk-parallel-item:last-child::after {align-self: flex-start;width: 50%;}#sk-container-id-1 div.sk-parallel-item:only-child::after {width: 0;}#sk-container-id-1 div.sk-dashed-wrapped {border: 1px dashed gray;margin: 0 0.4em 0.5em 0.4em;box-sizing: border-box;padding-bottom: 0.4em;background-color: white;}#sk-container-id-1 div.sk-label label {font-family: monospace;font-weight: bold;display: inline-block;line-height: 1.2em;}#sk-container-id-1 div.sk-label-container {text-align: center;}#sk-container-id-1 div.sk-container {/* jupyter's `normalize.less` sets `[hidden] { display: none; }` but bootstrap.min.css set `[hidden] { display: none !important; }` so we also need the `!important` here to be able to override the default hidden behavior on the sphinx rendered scikit-learn.org. See: https://github.com/scikit-learn/scikit-learn/issues/21755 */display: inline-block !important;position: relative;}#sk-container-id-1 div.sk-text-repr-fallback {display: none;}</style><div id=\"sk-container-id-1\" class=\"sk-top-container\"><div class=\"sk-text-repr-fallback\"><pre>RandomForestClassifier(random_state=42)</pre><b>In a Jupyter environment, please rerun this cell to show the HTML representation or trust the notebook. <br />On GitHub, the HTML representation is unable to render, please try loading this page with nbviewer.org.</b></div><div class=\"sk-container\" hidden><div class=\"sk-item\"><div class=\"sk-estimator sk-toggleable\"><input class=\"sk-toggleable__control sk-hidden--visually\" id=\"sk-estimator-id-1\" type=\"checkbox\" checked><label for=\"sk-estimator-id-1\" class=\"sk-toggleable__label sk-toggleable__label-arrow\">RandomForestClassifier</label><div class=\"sk-toggleable__content\"><pre>RandomForestClassifier(random_state=42)</pre></div></div></div></div></div>"
            ]
          },
          "metadata": {},
          "execution_count": 13
        }
      ]
    },
    {
      "cell_type": "code",
      "source": [
        "# Step 14: Print Confusion Matrix\n",
        "y_pred = rf_selected.predict(X_test_selected)\n",
        "print(\"\\nConfusion Matrix:\")\n",
        "print(confusion_matrix(y_test, y_pred))\n"
      ],
      "metadata": {
        "colab": {
          "base_uri": "https://localhost:8080/"
        },
        "id": "E7biCCQV_OTn",
        "outputId": "60302d21-1081-4fdd-d804-57e3989d7b00"
      },
      "execution_count": 14,
      "outputs": [
        {
          "output_type": "stream",
          "name": "stdout",
          "text": [
            "\n",
            "Confusion Matrix:\n",
            "[[ 76   5   1   1]\n",
            " [  0  11   0   0]\n",
            " [  0   0 235   0]\n",
            " [  1   1   0  15]]\n"
          ]
        }
      ]
    },
    {
      "cell_type": "code",
      "source": [
        "\n",
        "# Step 15: Display Precision, Recall, F1, and Support Scores using Classification Report\n",
        "print(\"\\nClassification Report:\")\n",
        "print(classification_report(y_test, y_pred))\n"
      ],
      "metadata": {
        "colab": {
          "base_uri": "https://localhost:8080/"
        },
        "id": "bHHmjtZF_Pw5",
        "outputId": "73fc13b2-6e5d-45f2-8d64-1eb9a5041aff"
      },
      "execution_count": 15,
      "outputs": [
        {
          "output_type": "stream",
          "name": "stdout",
          "text": [
            "\n",
            "Classification Report:\n",
            "              precision    recall  f1-score   support\n",
            "\n",
            "         acc       0.99      0.92      0.95        83\n",
            "        good       0.65      1.00      0.79        11\n",
            "       unacc       1.00      1.00      1.00       235\n",
            "       vgood       0.94      0.88      0.91        17\n",
            "\n",
            "    accuracy                           0.97       346\n",
            "   macro avg       0.89      0.95      0.91       346\n",
            "weighted avg       0.98      0.97      0.98       346\n",
            "\n"
          ]
        }
      ]
    }
  ]
}